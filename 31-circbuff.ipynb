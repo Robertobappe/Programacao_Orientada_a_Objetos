{
 "cells": [
  {
   "cell_type": "markdown",
   "metadata": {},
   "source": [
    "# Exemplo: _buffer_ circular"
   ]
  },
  {
   "cell_type": "markdown",
   "metadata": {},
   "source": [
    "Para exemplificar a forma de uso de classes, vamos definir uma estrutura de dados para implementar uma fila limitada. Esta fila permite armazenar até um número máximo (especificado na criação) de elementos. Ao retirar um elemento, retiramos o mais antigo (inserido há mais tempo) que ainda está na fila; ao inserir um elemento, se há espaço, colocamos o elemento após o último, se não há espaço, então o mais antigo elemento ainda na fila é descartado antes da inserção do novo.\n",
    "\n",
    "Para implementar essa fila, usaremos uma estrutura de **buffer circular** em uma lista com espaço para o número máximo de elementos, um variável indicando o índice nessa lista do próximo elemento a retirar e uma variável dizendo o número de elementos correntemente no buffer. Os elementos serão armazenados \"circularmente\" na lista, começando no próximo a retirar e considerando que o primeiro elemento da lista (de índice 0) é posterior ao último.\n",
    "\n",
    "Por exemplo, suponha um *buffer* com espaço para 10 elementos, e que no momento tem 7 elementos armazenados, começando no índice 5. Representando um elemento armazenado por `O` e um elemento livre por `X`, a lista estaria com a seguinte configuração:\n",
    "\n",
    "    O O X X X O O O O O\n",
    "    \n",
    "Após a retirada de um elemento, a configuração passaria a ser:\n",
    "\n",
    "    O O X X X X O O O O\n",
    "    \n",
    "E se depois inserirmos mais dois elementos teremos:\n",
    "\n",
    "    O O O O X X O O O O"
   ]
  },
  {
   "cell_type": "code",
   "execution_count": 1,
   "metadata": {},
   "outputs": [],
   "source": [
    "class LimitedQueue:\n",
    "    def __init__(self, size):\n",
    "        self._buffer = [None for i in range(size)] # Esta é a lista para guardar os valores\n",
    "        self._n = 0                                # _n é o número de valores no buffer\n",
    "        self._max_size = size                      # _max_size é o máximo aceito de elementos\n",
    "        self._first = 0                            # _first é índice do primeiro ocupado na lista\n",
    "    \n",
    "    # Método para verificar se a fila está vazia\n",
    "    def empty(self):\n",
    "        return self._n == 0\n",
    "        \n",
    "    # Método para pegar referência para o próximo objeto a retirar.\n",
    "    def get_first(self):\n",
    "        # Se buffer está vazio, é um erro.\n",
    "        assert self._n > 0, 'Trying to access an empty buffer'\n",
    "        # Se há elementos, simplesmente retorna o apontado pelo ponto de leitura.\n",
    "        return self._buffer[self._first]\n",
    "    \n",
    "    # Método para inserir um elemento na lista\n",
    "    def insert(self, value):\n",
    "        # O ponto de inserção é o ponto de leitura + número de elementos (calculado circularmente)\n",
    "        insert = (self._first + self._n) % self._max_size\n",
    "        # Coloca o valor no ponto de inserção\n",
    "        self._buffer[insert] = value\n",
    "        if self._n < self._max_size:\n",
    "            # Se havia espaço, incrementa número de elementos no buffer\n",
    "            self._n += 1\n",
    "        else:\n",
    "            # Se não havia espaço, então foi inserido no antigo primeiro. Atualiza primeiro.\n",
    "            self._first = (self._first + 1) % self._max_size\n",
    "            \n",
    "    # Método para retirar objeto do buffer\n",
    "    def drop_first(self):\n",
    "        # Se buffer está vazio, é um erro.\n",
    "        assert self._n > 0, 'Trying to remove from an empty buffer'\n",
    "        # Se tinha algo, atualiza ponto de leitura para o próximo e decrementa número de elementos no buffer.\n",
    "        self._first = (self._first + 1) % self._max_size\n",
    "        self._n -= 1\n"
   ]
  },
  {
   "cell_type": "markdown",
   "metadata": {},
   "source": [
    "No código abaixo, quando um objeto do tipo `LimitedQueue` é criado, o método `__init__` é chamado com o valor 5 passado para o parâmetro `size` e uma referência para esse objeto na variável `self`."
   ]
  },
  {
   "cell_type": "code",
   "execution_count": null,
   "metadata": {},
   "outputs": [],
   "source": [
    "b = LimitedQueue(5)"
   ]
  },
  {
   "cell_type": "markdown",
   "metadata": {},
   "source": [
    "Vamos agora fazer alguns testes na classe.\n",
    "\n",
    "Em primeiro lugar, não é possível ler valor de um buffer vazio."
   ]
  },
  {
   "cell_type": "code",
   "execution_count": null,
   "metadata": {},
   "outputs": [],
   "source": [
    "b.get_first()"
   ]
  },
  {
   "cell_type": "code",
   "execution_count": null,
   "metadata": {},
   "outputs": [],
   "source": [
    "b.insert(1)"
   ]
  },
  {
   "cell_type": "code",
   "execution_count": null,
   "metadata": {},
   "outputs": [],
   "source": [
    "b.insert(2)"
   ]
  },
  {
   "cell_type": "code",
   "execution_count": null,
   "metadata": {},
   "outputs": [],
   "source": [
    "b.insert(3)"
   ]
  },
  {
   "cell_type": "markdown",
   "metadata": {},
   "source": [
    "Agora o buffer circular `b` tem os valores\n",
    "\n",
    "    1 2 3"
   ]
  },
  {
   "cell_type": "code",
   "execution_count": null,
   "metadata": {},
   "outputs": [],
   "source": [
    "b.get_first()"
   ]
  },
  {
   "cell_type": "code",
   "execution_count": null,
   "metadata": {},
   "outputs": [],
   "source": [
    "b.drop_first()"
   ]
  },
  {
   "cell_type": "markdown",
   "metadata": {},
   "source": [
    "Ficamos agora com\n",
    "\n",
    "    2 3"
   ]
  },
  {
   "cell_type": "code",
   "execution_count": null,
   "metadata": {},
   "outputs": [],
   "source": [
    "b.get_first()"
   ]
  },
  {
   "cell_type": "code",
   "execution_count": null,
   "metadata": {},
   "outputs": [],
   "source": [
    "b.insert(4)"
   ]
  },
  {
   "cell_type": "code",
   "execution_count": null,
   "metadata": {},
   "outputs": [],
   "source": [
    "b.insert(5)"
   ]
  },
  {
   "cell_type": "code",
   "execution_count": null,
   "metadata": {},
   "outputs": [],
   "source": [
    "b.insert(6)"
   ]
  },
  {
   "cell_type": "markdown",
   "metadata": {},
   "source": [
    "E agora temos\n",
    "\n",
    "    2 3 4 5 6"
   ]
  },
  {
   "cell_type": "code",
   "execution_count": null,
   "metadata": {},
   "outputs": [],
   "source": [
    "b.get_first()"
   ]
  },
  {
   "cell_type": "code",
   "execution_count": null,
   "metadata": {},
   "outputs": [],
   "source": [
    "b.insert(7)"
   ]
  },
  {
   "cell_type": "markdown",
   "metadata": {},
   "source": [
    "O 7 não cabe, então o mais antigo (2) é jogado fora:\n",
    "\n",
    "    3 4 5 6 7"
   ]
  },
  {
   "cell_type": "code",
   "execution_count": null,
   "metadata": {},
   "outputs": [],
   "source": [
    "b.get_first()"
   ]
  },
  {
   "cell_type": "markdown",
   "metadata": {},
   "source": [
    "Os atributos criados nos objetos com nomes precedidos por `_` são considerados \"privados\" ao objeto, e devem ser acessados apenas pelos métodos da própria classe (apesar de que eles podem ser acessados sem problema, isto é apenas uma convenção)."
   ]
  },
  {
   "cell_type": "code",
   "execution_count": null,
   "metadata": {},
   "outputs": [],
   "source": []
  }
 ],
 "metadata": {
  "kernelspec": {
   "display_name": "Python 3 (ipykernel)",
   "language": "python",
   "name": "python3"
  },
  "language_info": {
   "codemirror_mode": {
    "name": "ipython",
    "version": 3
   },
   "file_extension": ".py",
   "mimetype": "text/x-python",
   "name": "python",
   "nbconvert_exporter": "python",
   "pygments_lexer": "ipython3",
   "version": "3.9.7"
  }
 },
 "nbformat": 4,
 "nbformat_minor": 4
}
