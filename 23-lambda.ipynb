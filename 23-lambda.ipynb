{
 "cells": [
  {
   "cell_type": "markdown",
   "metadata": {},
   "source": [
    "# Funções lambda, `map` e `filter`"
   ]
  },
  {
   "cell_type": "markdown",
   "metadata": {},
   "source": [
    "## 1. Funções lambda"
   ]
  },
  {
   "cell_type": "markdown",
   "metadata": {},
   "source": [
    "Em muitas situações, precisamos de uma função simples, que possivelmente não será mais usada em outros lugares. Neste caso, definir uma nova função com `def` pode ser mais complicado do que necessário, principalmente se precisamos usar variáveis locais, caso em que o `def` deveria aparecer no interior de outra função.\n",
    "\n",
    "Isso é resolvido pela definição de *funções lambda*, que são funções simples que não precisam receber um nome.\n",
    "\n",
    "A sintaxe é a seguinte:"
   ]
  },
  {
   "cell_type": "code",
   "execution_count": null,
   "metadata": {},
   "outputs": [],
   "source": [
    "f1 = lambda x, y: 2 * x - y"
   ]
  },
  {
   "cell_type": "markdown",
   "metadata": {},
   "source": [
    "Esse código definiu uma função de dois parâmetros (chamados `x` e `y`) que retorna o valor da expressão $2x-y$.\n",
    "\n",
    "Neste caso, estamos colocando essa função na variável `f1`, que pode ser usada para a execução da função."
   ]
  },
  {
   "cell_type": "code",
   "execution_count": null,
   "metadata": {},
   "outputs": [],
   "source": [
    "f1"
   ]
  },
  {
   "cell_type": "code",
   "execution_count": null,
   "metadata": {},
   "outputs": [],
   "source": [
    "f1(3, 2)"
   ]
  },
  {
   "cell_type": "markdown",
   "metadata": {},
   "source": [
    "Isto seria equivalente à definição abaixo (mas mais conciso): "
   ]
  },
  {
   "cell_type": "code",
   "execution_count": null,
   "metadata": {},
   "outputs": [],
   "source": [
    "def f2(x, y):\n",
    "    return 2 * x - y"
   ]
  },
  {
   "cell_type": "code",
   "execution_count": null,
   "metadata": {},
   "outputs": [],
   "source": [
    "f2(3, 2)"
   ]
  },
  {
   "cell_type": "markdown",
   "metadata": {},
   "source": [
    "Importante levar em consideração que o corpo de uma função lambda deve possuir apenas uma expressão, que será o valor retornado. Se for necessário código mais complexo, deve ser usado um `def`."
   ]
  },
  {
   "cell_type": "markdown",
   "metadata": {},
   "source": [
    "## 2. Map e filter"
   ]
  },
  {
   "cell_type": "markdown",
   "metadata": {},
   "source": [
    "Uma situação onde funções lambda são úteis é no uso da funções `map` e `filter`.\n",
    "\n",
    "`map` recebe uma função e um objeto do qual se podem percorrer os elementos. Ela aplica a função recebida, gerando um elemento para cada elemento original."
   ]
  },
  {
   "cell_type": "code",
   "execution_count": null,
   "metadata": {},
   "outputs": [],
   "source": [
    "list(map(lambda x: x // 2, [10, 20, 30, 40]))"
   ]
  },
  {
   "cell_type": "markdown",
   "metadata": {},
   "source": [
    "No código acima, definimos uma função lambda que divide o valor de seu parâmetro por 2. Essa função é aplicada (por `map`) a todos os elementos da lista fornecida. O resultado é coletado em uma nova lista.\n",
    "\n",
    "Um exemplo similar que usa `range` segue."
   ]
  },
  {
   "cell_type": "code",
   "execution_count": null,
   "metadata": {},
   "outputs": [],
   "source": [
    "list(map(lambda x: 2 * x ** 2, range(10)))"
   ]
  },
  {
   "cell_type": "markdown",
   "metadata": {},
   "source": [
    "Operações com `map` usualmente podem também ser escrita com _comprehension_, que é considerada uma melhor solução em Python."
   ]
  },
  {
   "cell_type": "code",
   "execution_count": null,
   "metadata": {},
   "outputs": [],
   "source": [
    "%timeit list(map(lambda x: 2 * x ** 2, range(100)))"
   ]
  },
  {
   "cell_type": "code",
   "execution_count": null,
   "metadata": {},
   "outputs": [],
   "source": [
    "%timeit [2 * x ** 2 for x in range(100)]"
   ]
  },
  {
   "cell_type": "markdown",
   "metadata": {},
   "source": [
    "Para completar, vamos comparar também com um _loop_ simples:"
   ]
  },
  {
   "cell_type": "code",
   "execution_count": null,
   "metadata": {},
   "outputs": [],
   "source": [
    "%%timeit\n",
    "a = []\n",
    "for x in range(100):\n",
    "    a.append(2 * x ** 2)"
   ]
  },
  {
   "cell_type": "markdown",
   "metadata": {},
   "source": [
    "Se a função fornecida necessita de mais parâmetros, precisamos fornecer uma lista para cada parâmetro.\n",
    "\n",
    "No codigo abaixo, `map` irá aplicar `f1(1,0), f1(2,1), f1(3,2), ...`"
   ]
  },
  {
   "cell_type": "code",
   "execution_count": null,
   "metadata": {},
   "outputs": [],
   "source": [
    "list(map(f1, range(1, 11), range(0, 10)))"
   ]
  },
  {
   "cell_type": "markdown",
   "metadata": {},
   "source": [
    "A função `filter` é similar a `map`, mas a função fornecida como primeiro parâmetro deve retornar um booleano (`True` ou `False`). Essa função é aplicada a cada elemento da coleção fornecida. Cada elemento para o qual a função retornar `True` será inserido no resultado, enquanto os outros serão descartados."
   ]
  },
  {
   "cell_type": "code",
   "execution_count": null,
   "metadata": {},
   "outputs": [],
   "source": [
    "list(filter(lambda x: x % 2 == 0, range(10)))"
   ]
  },
  {
   "cell_type": "markdown",
   "metadata": {
    "jupyter": {
     "outputs_hidden": true
    }
   },
   "source": [
    "Operações com `filter` também podem ser feitas com _comprehension_:"
   ]
  },
  {
   "cell_type": "code",
   "execution_count": null,
   "metadata": {},
   "outputs": [],
   "source": [
    "%timeit list(filter(lambda x: x % 2 == 0, range(10000)))"
   ]
  },
  {
   "cell_type": "code",
   "execution_count": null,
   "metadata": {},
   "outputs": [],
   "source": [
    "%timeit [x for x in range(10000) if x % 2 == 0]"
   ]
  },
  {
   "cell_type": "markdown",
   "metadata": {},
   "source": [
    "Comparando também com um _loop_ simples:"
   ]
  },
  {
   "cell_type": "code",
   "execution_count": null,
   "metadata": {},
   "outputs": [],
   "source": [
    "%%timeit\n",
    "a = []\n",
    "for x in range(10000):\n",
    "    if x % 2 == 0:\n",
    "        a.append(x)"
   ]
  },
  {
   "cell_type": "code",
   "execution_count": null,
   "metadata": {},
   "outputs": [],
   "source": [
    "list(map(lambda x: 2 * x ** 2, filter(lambda x: x % 2 == 0, range(10))))"
   ]
  },
  {
   "cell_type": "code",
   "execution_count": null,
   "metadata": {},
   "outputs": [],
   "source": [
    "[2 * x ** 2 for x in range(10) if x % 2 == 0]"
   ]
  },
  {
   "cell_type": "code",
   "execution_count": null,
   "metadata": {},
   "outputs": [],
   "source": [
    "import math"
   ]
  },
  {
   "cell_type": "code",
   "execution_count": null,
   "metadata": {},
   "outputs": [],
   "source": [
    "[(math.sqrt(8 * s + 1) - 1)/2 for s in [sum(range(n+1)) for n in range(10)]]"
   ]
  },
  {
   "cell_type": "code",
   "execution_count": null,
   "metadata": {},
   "outputs": [],
   "source": [
    "[sum(range(n+1)) for n in range(10)]"
   ]
  },
  {
   "cell_type": "code",
   "execution_count": null,
   "metadata": {},
   "outputs": [],
   "source": [
    "list(map(lambda x: x ** 3, \n",
    "         filter(lambda y: (y + 1) % 3 == 0 and y % 2 == 0, \n",
    "                range(100))))"
   ]
  },
  {
   "cell_type": "code",
   "execution_count": null,
   "metadata": {},
   "outputs": [],
   "source": [
    "list(filter(lambda y: y%3!=0 and y%5!=0, map(lambda x: 2 ** x - 1, range(10))))"
   ]
  },
  {
   "cell_type": "code",
   "execution_count": null,
   "metadata": {},
   "outputs": [],
   "source": []
  }
 ],
 "metadata": {
  "kernelspec": {
   "display_name": "Python 3 (ipykernel)",
   "language": "python",
   "name": "python3"
  },
  "language_info": {
   "codemirror_mode": {
    "name": "ipython",
    "version": 3
   },
   "file_extension": ".py",
   "mimetype": "text/x-python",
   "name": "python",
   "nbconvert_exporter": "python",
   "pygments_lexer": "ipython3",
   "version": "3.9.7"
  }
 },
 "nbformat": 4,
 "nbformat_minor": 4
}
