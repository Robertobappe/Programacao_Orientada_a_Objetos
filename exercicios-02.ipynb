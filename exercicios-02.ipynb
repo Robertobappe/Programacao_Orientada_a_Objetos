{
 "cells": [
  {
   "cell_type": "markdown",
   "id": "048060a4-c163-46a0-8517-f8a9a9d994f7",
   "metadata": {},
   "source": [
    "# Exercícios"
   ]
  },
  {
   "cell_type": "markdown",
   "id": "e47e88b6-f993-4005-8cee-d07204be454c",
   "metadata": {},
   "source": [
    "## 1. Execute as células abaixo e explique os resultados"
   ]
  },
  {
   "cell_type": "code",
   "execution_count": 7,
   "id": "7cbcf41f-c962-4ad4-892a-554b197e47c5",
   "metadata": {},
   "outputs": [
    {
     "name": "stdout",
     "output_type": "stream",
     "text": [
      "f of A\n",
      "g of A\n",
      "f of A\n"
     ]
    }
   ],
   "source": [
    "class A:\n",
    "    def f(self):\n",
    "        print('f of A')\n",
    "        \n",
    "    def g(self):\n",
    "        print('g of A')\n",
    "        self.f()\n",
    "\n",
    "a = A()\n",
    "a.f()\n",
    "a.g()"
   ]
  },
  {
   "cell_type": "markdown",
   "id": "595fd986-14d3-4ed4-ae8d-457f4ca48cc2",
   "metadata": {},
   "source": [
    "a = A() \n",
    "criamos um objeto a.\n",
    "\n",
    "a.f()\n",
    "acessamos o método definido na classe com a notação de ponto. Assim temos o resultado 'f of A'\n",
    "\n",
    "a.g()\n",
    "acessamos o método definido na classe com a notação de ponto. Assim temos o resultado 'g of A' e após isso chamamos a função f() com self.f(). "
   ]
  },
  {
   "cell_type": "code",
   "execution_count": 8,
   "id": "27225f32-045a-4f47-82b5-f91479039a80",
   "metadata": {},
   "outputs": [
    {
     "name": "stdout",
     "output_type": "stream",
     "text": [
      "New B with 4\n",
      "New B with 7\n",
      "f for a B with 4\n",
      "14\n",
      "f for a B with 7\n",
      "27\n"
     ]
    }
   ],
   "source": [
    "class B:\n",
    "    def __init__(self, x):\n",
    "        print(f'New B with {x}')\n",
    "        self.x = x\n",
    "        \n",
    "    def f(self, y):\n",
    "        print(f'f for a B with {self.x}')\n",
    "        return self.x + y\n",
    "    \n",
    "b1 = B(4)\n",
    "b2 = B(7)\n",
    "print(f'{b1.f(10)}')\n",
    "print(f'{b2.f(20)}')"
   ]
  },
  {
   "cell_type": "markdown",
   "id": "846290fe-fa95-4f0f-a68f-d2160415069c",
   "metadata": {},
   "source": [
    "b1 = B(4)\n",
    "criamos objeto b1 em que passamos 4 como parâmetro. Ao criar um objeto o método __init__ é chamado e o parâmetro passado durante a criação é passado para esse método assim temos o resultado 'f New B with 4'. \n",
    "\n",
    "b2 = B(7)\n",
    "criamos objeto b1 em que passamos 4 como parâmetro. Ao criar um objeto o método __init__ é chamado e o parâmetro passado durante a criação é passado para esse método assim temos o resultado 'f New B with 7'.\n",
    "\n",
    "print(f'{b1.f(10)}')\n",
    "acessamos o método definido na classe com a notação de ponto. Assim por meio do objeto b1 acessamos o método f com ponto passando o parâmetro 10. Então será printado 'f for a B with 4' que é o valor passado na criação do objeto b1 como também a soma self.x + y (10 + 4).\n",
    "\n",
    "print(f'{b2.f(20)}')\n",
    "acessamos o método definido na classe com a notação de ponto. Assim por meio do objeto b2 acessamos o método f com ponto passando o parâmetro 20. Então será printado 'f for a B with 7' que é o valor passado na criação do objeto b2 como também a soma self.x + y (20 + 7)."
   ]
  },
  {
   "cell_type": "code",
   "execution_count": 9,
   "id": "35d3649d-dcef-402e-88e8-9f5c21ff1f5b",
   "metadata": {},
   "outputs": [
    {
     "name": "stdout",
     "output_type": "stream",
     "text": [
      "f of C\n",
      "g of C\n",
      "f of C\n",
      "f of D\n",
      "g of C\n",
      "f of D\n"
     ]
    }
   ],
   "source": [
    "class C:\n",
    "    def f(self):\n",
    "        print('f of C')\n",
    "    def g(self):\n",
    "        print('g of C')\n",
    "        self.f()\n",
    "\n",
    "class D(C):\n",
    "    def f(self):\n",
    "        print('f of D')\n",
    "              \n",
    "c = C()\n",
    "d = D()\n",
    "c.f()\n",
    "c.g()\n",
    "d.f()\n",
    "d.g()"
   ]
  },
  {
   "cell_type": "markdown",
   "id": "a06290c8-682d-462a-866c-ddb6b95af0e5",
   "metadata": {},
   "source": [
    "c = C()\n",
    "criamos o objeto c sem passar nenhum parâmetro.\n",
    "\n",
    "d = D()\n",
    "criamos o objeto d sem passar nenhum parâmetro. Vale destacar que a criação da classe D usa herança para herdar o código existente da classe C.\n",
    "\n",
    "c.f()\n",
    "acessamos o método definido na classe C com a notação do ponto. Assim por meio do objeto c acessamos o método f com o ponto sem passar nenhum parâmetro. Então temos o resultado 'f of C'.\n",
    "\n",
    "c.g()\n",
    "acessamos o método definido na classe C com a notação do ponto. Assim por meio do objeto c acessamos o método g com o ponto sem passar nenhum parâmetro. Então temos o resultado 'g of C'. Mas também temos a chamada do método f logo teremos mais um resultado 'f of C'. \n",
    "\n",
    "d.f()\n",
    "acessamos o método definido na classe D com a notação do ponto. Assim por meio do objeto d acessamos o método f com o ponto sem passar nenhum parâmetro. Então temos o resultado 'f of D'.\n",
    "\n",
    "d.g()\n",
    "acessamos o método definido na classe D com a notação do ponto. Assim por meio do objeto d acessamos o método g herdado de C com o ponto sem passar nenhum parâmetro. Assim é solicitado a impressão de 'g of C' e logo abaixo é chamado o método f e assim temos o resultado 'f of D'"
   ]
  },
  {
   "cell_type": "code",
   "execution_count": 10,
   "id": "0ec5d8ca-eaad-4120-baaa-404a3666a8a7",
   "metadata": {},
   "outputs": [
    {
     "name": "stdout",
     "output_type": "stream",
     "text": [
      "12\n",
      "44\n"
     ]
    }
   ],
   "source": [
    "class E:\n",
    "    def __init__(self, x):\n",
    "        self.x = x\n",
    "    def f(self):\n",
    "        return self.x\n",
    "\n",
    "class F(E):\n",
    "    def f(self):\n",
    "        return 2 * self.x\n",
    "    \n",
    "e = E(12)\n",
    "f = F(22)\n",
    "print(e.f())\n",
    "print(f.f())"
   ]
  },
  {
   "cell_type": "markdown",
   "id": "caad7599-5e91-4ac3-afa6-90398890d481",
   "metadata": {},
   "source": [
    "e = E(12)\n",
    "criamos o objeto e passando o parâmetro 12.\n",
    "\n",
    "f = F(22)\n",
    "criamos o objeto f passando o parâmetro 22.\n",
    "\n",
    "print(e.f())\n",
    "acessamos o método f definido na classe E com a notação de ponto. Assim temos criado o valor da variável x guardado em self.x no __init__ então nosso resultado será o valor passado como parâmetro na criação do objeto. Logo nosso resultado será 12.\n",
    "\n",
    "print(f.f())\n",
    "acessamos o método f definido na classa F em que vamos multiplicar por dois o valor herdado na criação do objeto da classe E (22). Logo nosso resultao será 44. \n"
   ]
  },
  {
   "cell_type": "code",
   "execution_count": 11,
   "id": "6e620c41-60ba-4879-a54e-490672a363d9",
   "metadata": {},
   "outputs": [
    {
     "name": "stdout",
     "output_type": "stream",
     "text": [
      "15\n",
      "105\n"
     ]
    }
   ],
   "source": [
    "class G:\n",
    "    def __init__(self, x):\n",
    "        self.x = x\n",
    "    def f(self):\n",
    "        return self.x\n",
    "    \n",
    "class H(G):\n",
    "    def __init__(self, x):\n",
    "        self.x = 3 * x\n",
    "        \n",
    "g = G(15)\n",
    "h = H(35)\n",
    "print(g.f())\n",
    "print(h.f())"
   ]
  },
  {
   "cell_type": "markdown",
   "id": "71df73c3-549d-456f-8d84-e3cf9747f8c9",
   "metadata": {},
   "source": [
    "g = G(15)\n",
    "criamos um objeto g passando 15 como parâmetro.\n",
    "\n",
    "h = H(35)\n",
    "criamos um objeto h passando 35 como parâmetro. Vale destacar que a classe H herda os todos métodos de G.\n",
    "\n",
    "print(g.f())\n",
    "acessamos o método f definido na classe G com a notação de ponto. Assim na criação da classe G é passado para o método __init__ o valor de 15 guardado em self.x e o método f quando chamado apenas retorna esse valor. Assim temos o resultado 15.\n",
    "\n",
    "print(h.f())\n",
    "na criação da classe H temos a reedefinição do método __init__ em que o valor passado como parâmetro é multiplicado por 3. Como a classe H não tem o método f, mas herda a classe G que tem o método f então esse método é chamado para retornar o valor guardado no __init__ que foi redefinido. Então temos o resultado 3 * 35 == 105."
   ]
  },
  {
   "cell_type": "code",
   "execution_count": 16,
   "id": "ca7eb194-36c4-4fa0-ad39-58b7ef7c51b9",
   "metadata": {},
   "outputs": [
    {
     "name": "stdout",
     "output_type": "stream",
     "text": [
      "3\n",
      "30\n"
     ]
    },
    {
     "ename": "AttributeError",
     "evalue": "'J' object has no attribute 'x'",
     "output_type": "error",
     "traceback": [
      "\u001b[0;31m---------------------------------------------------------------------------\u001b[0m",
      "\u001b[0;31mAttributeError\u001b[0m                            Traceback (most recent call last)",
      "Input \u001b[0;32mIn [16]\u001b[0m, in \u001b[0;36m<cell line: 19>\u001b[0;34m()\u001b[0m\n\u001b[1;32m     17\u001b[0m \u001b[38;5;28mprint\u001b[39m(i\u001b[38;5;241m.\u001b[39mf())\n\u001b[1;32m     18\u001b[0m \u001b[38;5;28mprint\u001b[39m(i\u001b[38;5;241m.\u001b[39mg())\n\u001b[0;32m---> 19\u001b[0m \u001b[38;5;28mprint\u001b[39m(\u001b[43mj\u001b[49m\u001b[38;5;241;43m.\u001b[39;49m\u001b[43mg\u001b[49m\u001b[43m(\u001b[49m\u001b[43m)\u001b[49m)\n",
      "Input \u001b[0;32mIn [16]\u001b[0m, in \u001b[0;36mJ.g\u001b[0;34m(self)\u001b[0m\n\u001b[1;32m     12\u001b[0m \u001b[38;5;28;01mdef\u001b[39;00m \u001b[38;5;21mg\u001b[39m(\u001b[38;5;28mself\u001b[39m):\n\u001b[0;32m---> 13\u001b[0m     \u001b[38;5;28;01mreturn\u001b[39;00m \u001b[38;5;241m30\u001b[39m \u001b[38;5;241m*\u001b[39m \u001b[38;5;28;43mself\u001b[39;49m\u001b[38;5;241;43m.\u001b[39;49m\u001b[43mf\u001b[49m\u001b[43m(\u001b[49m\u001b[43m)\u001b[49m\n",
      "Input \u001b[0;32mIn [16]\u001b[0m, in \u001b[0;36mI.f\u001b[0;34m(self)\u001b[0m\n\u001b[1;32m      4\u001b[0m \u001b[38;5;28;01mdef\u001b[39;00m \u001b[38;5;21mf\u001b[39m(\u001b[38;5;28mself\u001b[39m):\n\u001b[0;32m----> 5\u001b[0m     \u001b[38;5;28;01mreturn\u001b[39;00m \u001b[38;5;28;43mself\u001b[39;49m\u001b[38;5;241;43m.\u001b[39;49m\u001b[43mx\u001b[49m\n",
      "\u001b[0;31mAttributeError\u001b[0m: 'J' object has no attribute 'x'"
     ]
    }
   ],
   "source": [
    "class I:\n",
    "    def __init__(self, x):\n",
    "        self.x = x\n",
    "    def f(self):\n",
    "        return self.x\n",
    "    def g(self):\n",
    "        return 10 * self.f()\n",
    "    \n",
    "class J(I):\n",
    "    def __init__(self, y):\n",
    "        self.y = y\n",
    "    def g(self):\n",
    "        return 30 * self.f()\n",
    "    \n",
    "i = I(3)\n",
    "j = J(11)\n",
    "print(i.f())\n",
    "print(i.g())\n",
    "print(j.g())"
   ]
  },
  {
   "cell_type": "markdown",
   "id": "4d607005-2c23-4cb5-8ad0-b7740dbc3b4f",
   "metadata": {},
   "source": [
    "i = I(3)\n",
    "criamos o objeto i passando como parãmetro 3. A função __init__ é iniciada e guarda o valor do parâmetro na variável self.x. \n",
    "\n",
    "j = J(11)\n",
    "criamos o objeto j passando como parãmetro 11.\n",
    "\n",
    "print(i.f())\n",
    "acessamos o método f() definido na classe I com a notação de ponto. Assim, é retornado o valor de x que é o parâmetro passado na criação do objeto i já que o __init__ (que é a função iniciada na criação do objeto) de I guarda esse valor na varável self.x \n",
    "\n",
    "print(i.g())\n",
    "acessamos o médoto g() definido na classe I com a notação de ponto. Este retorna a multiplicação por dez do método f() e do item anterior temos que f() retorna 3. Assim o resultado será 30."
   ]
  },
  {
   "cell_type": "code",
   "execution_count": 1,
   "id": "fa098257-8458-46c9-a151-1d324c3af82a",
   "metadata": {},
   "outputs": [
    {
     "name": "stdout",
     "output_type": "stream",
     "text": [
      "18\n",
      "18\n",
      "45\n",
      "75\n",
      "69\n",
      "351\n"
     ]
    }
   ],
   "source": [
    "class AA:\n",
    "    def __init__(self, x):\n",
    "        self.x = x\n",
    "    def f(self, y):\n",
    "        return self.x + y\n",
    "    def g(self, y):\n",
    "        return 2 * self.f(y)\n",
    "    \n",
    "class BB(AA):\n",
    "    def f(self, y):\n",
    "        return self.x - y\n",
    "\n",
    "class CC(AA):\n",
    "    def g(self, y):\n",
    "        return 3 * self.f(y)\n",
    "    \n",
    "class DD(BB):\n",
    "    def g(self, y):\n",
    "        return 5 * self.f(y)\n",
    "    \n",
    "class EE(CC):\n",
    "    def f(self, y):\n",
    "        return self.x + 2 * y\n",
    "    \n",
    "class FF(CC):\n",
    "    def __init__(self, x):\n",
    "        CC.__init__(self, 5 * x)\n",
    "        \n",
    "aa = AA(7)\n",
    "bb = BB(11)\n",
    "cc = CC(13)\n",
    "dd = DD(17)\n",
    "ee = EE(19)\n",
    "ff = FF(23)\n",
    "print(aa.g(2))\n",
    "print(bb.g(2))\n",
    "print(cc.g(2))\n",
    "print(dd.g(2))\n",
    "print(ee.g(2))\n",
    "print(ff.g(2))"
   ]
  },
  {
   "cell_type": "markdown",
   "id": "74e85175-bf21-436c-921c-63aaa47b1722",
   "metadata": {},
   "source": [
    "criamos os seguintes objetos passando os parâmetros em parenteses: aa = AA(7), bb = BB(11), cc = CC(13), dd = DD(17), ee = EE(19) e ff = FF(23).\n",
    "\n",
    "print(aa.g(2)) acessamos o método g() definido na classe AA com a notação de ponto. O __init__ da classe guarda o valor passado como parâmetro na criação do objeto na variável self.x = 7. O método g() multiplica por dois o valor da chamada do método f(y). O método f() soma a essa variável um y passado ao método f(y): self.x + y. Assim o resultado será 18.\n",
    "\n",
    "print(bb.g(2)) antes vale destacar que a classe BB herda a classe AA como também redefine o método f(). Acessamos o método g() com a notação de ponto. O método g() multiplica por dois o valor da chamada do método f(y). O método f() subtrai o valor passado como parâmetro na criação do objeto pelo valor passado para o método: 11 - 2. Assim o resultado final será 18.\n",
    "\n",
    "print(cc.g(2)) a classe CC também herda AA e redefine o método g(). Acessamos o método g() com a notação de ponto. Este multiplica por 3 a chamada de f(y). O método f(y) soma o valor passado como parâmetro na criação do objeto cc com o valor passado a este método: 13 + 2. Assim o resultado final será 45.\n",
    "\n",
    "print(dd.g(2)) a classe DD herda BB e AA, pois BB herda AA como também redefine o método g() de AA. Acessamos o método g(2) passando um parâmetro com a notação de ponto. Este método multiplica por 5 o retorno da chamada do método f(2). O método f() definido na classe BB pega o valor passado como parâmetro na criação do objeto dd(17) e subtrai pelo passado pelo método f(2) então 17 - 2 = 15. Assim o resultado final é 75.\n",
    "\n",
    "print(ee.g(2)) a classe EE herda CC e AA, pois CC herda AA como também redefine o método f() de AA. Acessamos o método g() passando o parâmetro 2 com a notação de ponto. Este método multiplica por 3 o retorno da chamada de f(2). O método agora redefinido soma o valor passado como parâmetro na criação do objeto EE(19) com a multiplicação de 2 pelo valor passado ao método g(2) então 19 + 2X2 = 23. assim o resultado final fica 69.\n",
    "\n",
    "print(ff.g(2)) a classe FF herda CC e AA, pois CC herda AA como também define um __init__ em que chama o __init__ da classe CC passando o parâmetro que foi usado na criação do objeto ff = FF(23) multiplicado por 5 então 115. Já o __init__ da classe CC é o da classe AA por herença. Este guarga na variável self.x o o valor self.x = 115. Acessamos o método g com a notação de ponto passando o parãmetro 2. O método g(2) retorna a multiplicação 3 pela chamada de f(2). Este método soma self.x + y então 115 + 2 = 117. Então o resultado final é 351.  "
   ]
  },
  {
   "cell_type": "markdown",
   "id": "3d071c30-3fc1-4411-84ce-0bae8a6c1f76",
   "metadata": {},
   "source": [
    "## 2. Implemente a classe pedida"
   ]
  },
  {
   "cell_type": "markdown",
   "id": "251720c2-4170-4c54-884f-05f58f87cfbe",
   "metadata": {},
   "source": [
    "Temos a seguinte classe disponível que implementa um ponto num espaço tridimensional:"
   ]
  },
  {
   "cell_type": "code",
   "execution_count": 10,
   "id": "545e6c5f-9342-4557-94ec-7cb391c8c426",
   "metadata": {},
   "outputs": [],
   "source": [
    "class Point:\n",
    "    def __init__(self, x, y, z):\n",
    "        self._coords = x, y, z\n",
    "    def x(self):\n",
    "        return self._coords[0]\n",
    "    def y(self):\n",
    "        return self._coords[1]\n",
    "    def z(self):\n",
    "        return self._coords[2]\n",
    "    \n",
    "class Particle(Point):\n",
    "    def __init__(self, x, y, z, m):\n",
    "        self.m = m\n",
    "        Point.__init__(self, x, y, z)\n",
    "    def mass(self):\n",
    "        return self.m"
   ]
  },
  {
   "cell_type": "markdown",
   "id": "79d50079-16d0-4ed7-b953-6f85f0403554",
   "metadata": {},
   "source": [
    "Usando herança, crie uma classe denominada `Particle`, que tem além da posição da partícula a sua massa; a massa é fornecida junto com as coordenadas na criação do objeto. Essa classe deve ter um método denominado `mass` que retorna o valor da massa da partícula.\n",
    "\n",
    "Veja o exemplo de uso abaixo:"
   ]
  },
  {
   "cell_type": "code",
   "execution_count": 11,
   "id": "9f161304-7f70-44e3-821b-597196e4f450",
   "metadata": {},
   "outputs": [
    {
     "name": "stdout",
     "output_type": "stream",
     "text": [
      "A particle with mass 100.0 was detected at (1.0, 2.0, -1.0)\n"
     ]
    }
   ],
   "source": [
    "p1 = Particle(1.0, 2.0, -1.0, 100.) # partícula em (1, 2, -1) com massa 100\n",
    "print(f'A particle with mass {p1.mass()} was detected at ({p1.x()}, {p1.y()}, {p1.z()})')"
   ]
  }
 ],
 "metadata": {
  "kernelspec": {
   "display_name": "Python 3 (ipykernel)",
   "language": "python",
   "name": "python3"
  },
  "language_info": {
   "codemirror_mode": {
    "name": "ipython",
    "version": 3
   },
   "file_extension": ".py",
   "mimetype": "text/x-python",
   "name": "python",
   "nbconvert_exporter": "python",
   "pygments_lexer": "ipython3",
   "version": "3.8.10"
  }
 },
 "nbformat": 4,
 "nbformat_minor": 5
}
