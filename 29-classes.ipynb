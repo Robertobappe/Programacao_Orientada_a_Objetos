{
 "cells": [
  {
   "cell_type": "markdown",
   "metadata": {},
   "source": [
    "# Orientação a objetos"
   ]
  },
  {
   "cell_type": "markdown",
   "metadata": {},
   "source": [
    "A orientação a objetos se baseia no conceito de *tipos abstratos de dados:* queremos definir os tipos através do **conjunto de operações** permitidas nesses tipos (e não da forma como os dados do tipo são representados no computador).\n",
    "\n",
    "Para isso, ao definir um tipo (denominado neste caso uma **classe**), devemos especificar as operações (denominadas **métodos**) que definem esse tipo."
   ]
  },
  {
   "cell_type": "markdown",
   "metadata": {},
   "source": [
    "## 1. Definindo classes, métodos e objetos"
   ]
  },
  {
   "cell_type": "markdown",
   "metadata": {},
   "source": [
    "Por exemplo, no código abaixo definimos um novo tipo (classe) para representar políticos brasileiros, com um método que diz a promessa de campanha e um método que diz o que é executado quando eleito."
   ]
  },
  {
   "cell_type": "code",
   "execution_count": null,
   "metadata": {},
   "outputs": [],
   "source": [
    "class Politico:\n",
    "    def promete(self):\n",
    "        print('Vou cuidar dos pobres.')\n",
    "    def executa(self):\n",
    "        print('Envie este dinheiro para a minha firma do Panamá.')"
   ]
  },
  {
   "cell_type": "markdown",
   "metadata": {},
   "source": [
    "O uso de `self` será discutido mais adiante."
   ]
  },
  {
   "cell_type": "markdown",
   "metadata": {},
   "source": [
    "Quando queremos lidar com esse tipo de elemento, devemos criar um objeto, o que é possível usando a classe como se fosse uma função.\n",
    "\n",
    "O resultado é a criação de um *objeto* (uma *instância* da classe)."
   ]
  },
  {
   "cell_type": "code",
   "execution_count": null,
   "metadata": {},
   "outputs": [],
   "source": [
    "juca = Politico()"
   ]
  },
  {
   "cell_type": "markdown",
   "metadata": {},
   "source": [
    "Agora `juca` é uma variável com uma referência para um objeto da classe `Politico`."
   ]
  },
  {
   "cell_type": "code",
   "execution_count": null,
   "metadata": {},
   "outputs": [],
   "source": [
    "juca"
   ]
  },
  {
   "cell_type": "markdown",
   "metadata": {},
   "source": [
    "Outra forma de dizer é que `Politico` é o tipo do objeto referenciado por `juca`."
   ]
  },
  {
   "cell_type": "code",
   "execution_count": null,
   "metadata": {},
   "outputs": [],
   "source": [
    "a = 1"
   ]
  },
  {
   "cell_type": "code",
   "execution_count": null,
   "metadata": {},
   "outputs": [],
   "source": [
    "type(a)"
   ]
  },
  {
   "cell_type": "code",
   "execution_count": null,
   "metadata": {},
   "outputs": [],
   "source": [
    "type(juca)"
   ]
  },
  {
   "cell_type": "markdown",
   "metadata": {},
   "source": [
    "Os métodos da classe podem ser executados sobre um objeto usando a notação `objeto.metodo()`."
   ]
  },
  {
   "cell_type": "code",
   "execution_count": null,
   "metadata": {},
   "outputs": [],
   "source": [
    "juca.promete()"
   ]
  },
  {
   "cell_type": "code",
   "execution_count": null,
   "metadata": {},
   "outputs": [],
   "source": [
    "juca.executa()"
   ]
  },
  {
   "cell_type": "markdown",
   "metadata": {},
   "source": [
    "Apesar do conjunto de métodos ser uma característica importante da classe, isso não significa que outras classes não possam ter os mesmos métodos.\n",
    "\n",
    "Por exemplo, abaixo definimos que religiosos fajutos também prometem e executam."
   ]
  },
  {
   "cell_type": "code",
   "execution_count": null,
   "metadata": {},
   "outputs": [],
   "source": [
    "class ReligiosoFajuto:\n",
    "    def promete(self):\n",
    "        print('Vou salvar sua alma')\n",
    "    def executa(self):\n",
    "        print('Vamos construir um templo suntuoso.')"
   ]
  },
  {
   "cell_type": "code",
   "execution_count": null,
   "metadata": {},
   "outputs": [],
   "source": [
    "vito = ReligiosoFajuto()"
   ]
  },
  {
   "cell_type": "code",
   "execution_count": null,
   "metadata": {},
   "outputs": [],
   "source": [
    "vito.promete()"
   ]
  },
  {
   "cell_type": "code",
   "execution_count": null,
   "metadata": {},
   "outputs": [],
   "source": [
    "vito.executa()"
   ]
  },
  {
   "cell_type": "markdown",
   "metadata": {},
   "source": [
    "A possibilidade de classes distintas implementarem os mesmos métodos funciona muito bem em conjunto com o fato de que o Python não se importa com o tipo do objeto passado para uma função, desde que ele aceite as operações realizadas dentro da função.\n",
    "\n",
    "Por exemplo, a função `promessas` abaixo recebe uma lista e executa o método `promete` em cada elemento da lista. Isso significa que podemos passar uma lista mista com objetos dos tipos `Politico` e `ReligiosoFajuto`."
   ]
  },
  {
   "cell_type": "code",
   "execution_count": null,
   "metadata": {},
   "outputs": [],
   "source": [
    "def promessas(lista):\n",
    "    for individuo in lista:\n",
    "        individuo.promete()"
   ]
  },
  {
   "cell_type": "code",
   "execution_count": null,
   "metadata": {},
   "outputs": [],
   "source": [
    "a = [vito, \n",
    "     Politico(), \n",
    "     juca, \n",
    "     Politico(), \n",
    "     ReligiosoFajuto(), \n",
    "     Politico(), \n",
    "     ReligiosoFajuto()]"
   ]
  },
  {
   "cell_type": "code",
   "execution_count": null,
   "metadata": {},
   "outputs": [],
   "source": [
    "a"
   ]
  },
  {
   "cell_type": "code",
   "execution_count": null,
   "metadata": {},
   "outputs": [],
   "source": [
    "promessas(a)"
   ]
  },
  {
   "cell_type": "markdown",
   "metadata": {},
   "source": [
    "Similar ocorre na função `realizado` abaixo."
   ]
  },
  {
   "cell_type": "code",
   "execution_count": null,
   "metadata": {},
   "outputs": [],
   "source": [
    "def realizado(lista):\n",
    "    for ind in lista:\n",
    "        ind.executa()"
   ]
  },
  {
   "cell_type": "code",
   "execution_count": null,
   "metadata": {},
   "outputs": [],
   "source": [
    "realizado(a)"
   ]
  },
  {
   "cell_type": "markdown",
   "metadata": {},
   "source": [
    "Se algum dos objetos da lista não entende o método, então teremos um erro durante a execução."
   ]
  },
  {
   "cell_type": "code",
   "execution_count": null,
   "metadata": {},
   "outputs": [],
   "source": [
    "realizado([juca, vito, 12])"
   ]
  },
  {
   "cell_type": "markdown",
   "metadata": {},
   "source": [
    "## 2. Alguns outros exemplos simples"
   ]
  },
  {
   "cell_type": "markdown",
   "metadata": {},
   "source": [
    "### 2.1. Contador"
   ]
  },
  {
   "cell_type": "markdown",
   "metadata": {},
   "source": [
    "Vamos definir um tipo de objetos (classe) que são responsáveis por fazer contagem de quantas vezes algo aconteceu. Os objetos guardam o número de ocorrência e têm um método (`up`) para indicar uma nova ocorrência e um método `value` para verificar quantas ocorrências houveram até o momento da chamada. O objeto precisa ter seu valor inicializado em zero ao ser criado.\n",
    "\n",
    "Traduzido para Python, fica desta forma:"
   ]
  },
  {
   "cell_type": "code",
   "execution_count": null,
   "metadata": {},
   "outputs": [],
   "source": [
    "class Counter:\n",
    "    def __init__(self):\n",
    "        self._value = 0\n",
    "\n",
    "    def up(self):\n",
    "        self._value += 1\n",
    "    \n",
    "    def value(self):\n",
    "        return self._value"
   ]
  },
  {
   "cell_type": "markdown",
   "metadata": {},
   "source": [
    "Você deve ter reparado que os códigos dos métodos fazem amplo uso de `self`. Os métodos de uma classe (exceções serão discutidas em outra aula) devem ter como primeiro parâmetro o `self`. Esse parâmetro será uma variável com uma referência para o objeto sobre o qual o método foi chamado (isto é, o objeto que está à esquerda do ponto na chamada do método).\n",
    "\n",
    "Com o uso de `self`, podemos definir variáveis internas ao objeto, que poderão ser acessadas através dele pelos métodos da classe ou diretamente. Cada objeto da classe terá uma cópia própria dessas variáveis."
   ]
  },
  {
   "cell_type": "markdown",
   "metadata": {},
   "source": [
    "Quando criamos um objeto da classe, o método `__init__` é chamado, e os parâmetros passados durante a criação são passados para esse método. Por exemplo, no código abaixo é criado um objeto do tipo `Counter` e em seguida o método `__init__` é chamado com uma referência para esse objeto na variável `self` e nenhum outro parâmetro (pois não colocamos nada entre parêntesis)."
   ]
  },
  {
   "cell_type": "code",
   "execution_count": null,
   "metadata": {},
   "outputs": [],
   "source": [
    "c1 = Counter()\n",
    "assert c1.value() == 0, 'Wrong initial value'"
   ]
  },
  {
   "cell_type": "markdown",
   "metadata": {},
   "source": [
    "O Python dispõe de diversos métodos _especiais_, que eu chamo de _mágicos_, que têm um nome começado e terminado em dois _underscore_, como o `__init__`.  Cada um desses métodos é acionado em situações especiais, como aqui o `__init__` durante a criação de um objeto.\n",
    "\n",
    "O método `__init__` é importante para garantir que um objeto seja criado em um estado consistente. Neste caso, queremos garantir que o contador tenha o valor inicial zero.\n",
    "\n",
    "Note como, durante a execução do método `__init__` fazemos `self._value = 0`. Isto provoca a criação de uma variável `_value` que é associada ao objeto referenciado por `self` (isto é, o objeto que está sendo inicializado). Utilizamos este método para criar todas as variáveis necessárias para armazenar o estado do objeto."
   ]
  },
  {
   "cell_type": "code",
   "execution_count": null,
   "metadata": {},
   "outputs": [],
   "source": [
    "c1.up()\n",
    "assert c1.value() == 1, 'Wrong increment'"
   ]
  },
  {
   "cell_type": "markdown",
   "metadata": {},
   "source": [
    "Segue um exemplo de uso:"
   ]
  },
  {
   "cell_type": "code",
   "execution_count": null,
   "metadata": {},
   "outputs": [],
   "source": [
    "multiplos = Counter()\n",
    "for i in range(1, 1024, 2):\n",
    "    if i % 3 == 0 or i % 5 == 0:\n",
    "        multiplos.up()\n",
    "print(f'Achei {multiplos.value()} múltiplos de três ou cinco')"
   ]
  },
  {
   "cell_type": "markdown",
   "metadata": {},
   "source": [
    "### 2.2. Retângulo"
   ]
  },
  {
   "cell_type": "markdown",
   "metadata": {},
   "source": [
    "Agora vamos fazer uma classe para guardar informações de base e altura de retângulos. Cada objeto representará um retângulo, com valores de base e altura específicos.\n",
    "\n",
    "Ao criar o objeto (retângulo) precisamos indicar qual a base e a altura. Após isso, só queremos verificar algumas de suas características geométricas, como perímetro, área, diagonal, base e altura.\n",
    "\n",
    "Tomamos o cuidado de verificar que base e altura não sejam negativos (não faria sentido)."
   ]
  },
  {
   "cell_type": "code",
   "execution_count": null,
   "metadata": {},
   "outputs": [],
   "source": [
    "class Rectangle:\n",
    "    def __init__(self, base, height):\n",
    "        assert base > 0, 'base size must be positive'\n",
    "        assert height > 0, 'height must be positive'\n",
    "        self._base = base\n",
    "        self._height = height\n",
    "        \n",
    "    def base(self):\n",
    "        return self._base\n",
    "    \n",
    "    def height(self):\n",
    "        return self._height\n",
    "    \n",
    "    def perimeter(self):\n",
    "        return 2 * (self._base + self._height)\n",
    "    \n",
    "    def area(self):\n",
    "        return self._base * self._height\n",
    "    \n",
    "    def diagonal(self):\n",
    "        from math import hypot\n",
    "        return hypot(self._base, self._height)"
   ]
  },
  {
   "cell_type": "code",
   "execution_count": null,
   "metadata": {},
   "outputs": [],
   "source": [
    "r1 = Rectangle(1, 1)\n",
    "r2 = Rectangle(3, 4)\n",
    "r3 = Rectangle(0.3, 0.4)\n",
    "for r in [r1, r2, r3]:\n",
    "    print('Area', r.area())\n",
    "    print('Perimeter', r.perimeter())\n",
    "    print('Diagonal', r.diagonal())"
   ]
  },
  {
   "cell_type": "markdown",
   "metadata": {},
   "source": [
    "### 2.3. Dois maiores"
   ]
  },
  {
   "cell_type": "markdown",
   "metadata": {},
   "source": [
    "Agora vamos definir um tipo um pouco mais útil. Os objetos dessa classe receberão diversos valores, e terão guardados sempre os dois maiores valores que receberam até o momento (desde a sua criação).\n",
    "\n",
    "Para isso, vamos ter duas variáveis locais do objeto (membros) `_largest` e `_second`, onde a primeira guardará o maior valor já enviado e a segunda o segundo maior valor. No início, marcaremos essas variáveis com `None` para indicar que não há valor correspondente.\n",
    "\n",
    "Temos então um método `insert` para passar um novo valor ao objeto e um método `get`, que retorna os dois maiores valores recebidos em um tupla de dois elementos, com o maior no primeiro elemento."
   ]
  },
  {
   "cell_type": "code",
   "execution_count": null,
   "metadata": {},
   "outputs": [],
   "source": [
    "class TwoLargest:\n",
    "    # Class invariant [here, value_i is the i-th value inserted]:\n",
    "    #     (_largest is None and _second is None) or \n",
    "    #     (_largest == value_0 and _second is None) or \n",
    "    #     (_largest == value_i and \n",
    "    #      _second == value_j and i != j and\n",
    "    #      _largest >= _second and \n",
    "    #      _second >= value_k for all k != i, j)\n",
    "    \n",
    "    def __init__(self):\n",
    "        self._largest = None\n",
    "        self._second = None\n",
    "        \n",
    "    def insert(self, value):\n",
    "        if self._largest is None:\n",
    "            self._largest = value\n",
    "        elif value >= self._largest:\n",
    "            self._second = self._largest\n",
    "            self._largest = value\n",
    "        elif self._second is None or value > self._second:\n",
    "            self._second = value\n",
    "\n",
    "    def get(self):\n",
    "        return self._largest, self._second"
   ]
  },
  {
   "cell_type": "code",
   "execution_count": null,
   "metadata": {},
   "outputs": [],
   "source": [
    "d = TwoLargest()\n",
    "d.get()"
   ]
  },
  {
   "cell_type": "code",
   "execution_count": null,
   "metadata": {},
   "outputs": [],
   "source": [
    "d.insert(1); d.insert(-1); d.insert(10); d.insert(10); d.insert(15)"
   ]
  },
  {
   "cell_type": "code",
   "execution_count": null,
   "metadata": {},
   "outputs": [],
   "source": [
    "d.get()"
   ]
  },
  {
   "cell_type": "code",
   "execution_count": null,
   "metadata": {},
   "outputs": [],
   "source": [
    "import random\n",
    "largest_two_rand = TwoLargest()\n",
    "for _ in range(1000):\n",
    "    largest_two_rand.insert(random.randint(1, 10_000))\n",
    "print(f'These are the two largest generated: {largest_two_rand.get()}')"
   ]
  },
  {
   "cell_type": "markdown",
   "metadata": {},
   "source": [
    "#### 2.3.1. Sugestão:"
   ]
  },
  {
   "cell_type": "markdown",
   "metadata": {},
   "source": [
    "Como exercício, faça o seguinte: Suponha agora que você quer usar esses objetos de tal forma que, em um dado instante, podemos pedir para o objeto reiniciar, esquecendo tudo o que já tinha recebido, passando a operar como se fosse um novo objeto recém-criado. Vamos chamar esse método de `reset`. Altere a classe para implementar esse método."
   ]
  },
  {
   "cell_type": "markdown",
   "metadata": {
    "jupyter": {
     "outputs_hidden": true
    }
   },
   "source": [
    "## 3. Encapsulação"
   ]
  },
  {
   "cell_type": "markdown",
   "metadata": {},
   "source": [
    "Como as classes devem implementar tipos abstratos de dados, e esse tipos são caracterizados pelo seu comportamento, e não pela sua implementação, é importante trabalhar de tal forma que todos os detalhes de implementação sejam mantidos afastados do código que usa a classe (eles são de interesse apenas para os métodos da classe).\n",
    "\n",
    "Isso é chamado **encapsulação**: encapsulamos os detalhes de implementação atravé do conjunto de métodos definidos na linguagem. \n",
    "\n",
    "Infelizmente, ao contrário da maioria das linguagens orientadas a objetos, o Python não tem mecanismo para garantir encapsulação. A saída desenvolvida pela comunidade de programadores em Python foi o uso de convenções. A convenção é que, qualquer elemento da classe que faça parte da implementação deve ter um identificador que começa com um _underscore_ `_`. Desta forma, quando você desenvolve uma classe, deve se lembrar que colocar um `_` inicial em todos os identificadores de elementos que sejam parte da implementação, e não parte da interface visível dos dados (como fizemos nos exemplos acima). Por outro lado, quando você usa uma classe, você deve evitar acessar diretamente identificadores que começam com `_`.\n",
    "\n",
    "Isso dá a liberdade ao implementador da classe de mudar a implementação quando quiser, sem afetar o código dos usuários da classe (os _clientes_), desde que estes tenham seguido as convenções."
   ]
  }
 ],
 "metadata": {
  "kernelspec": {
   "display_name": "Python 3 (ipykernel)",
   "language": "python",
   "name": "python3"
  },
  "language_info": {
   "codemirror_mode": {
    "name": "ipython",
    "version": 3
   },
   "file_extension": ".py",
   "mimetype": "text/x-python",
   "name": "python",
   "nbconvert_exporter": "python",
   "pygments_lexer": "ipython3",
   "version": "3.9.7"
  }
 },
 "nbformat": 4,
 "nbformat_minor": 4
}
